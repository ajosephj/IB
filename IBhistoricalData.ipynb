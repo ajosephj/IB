{
 "cells": [
  {
   "cell_type": "markdown",
   "metadata": {},
   "source": [
    "# CONNECTING TO IB API AND GETTING HISTORICAL DATA\n"
   ]
  },
  {
   "cell_type": "code",
   "execution_count": 1,
   "metadata": {},
   "outputs": [
    {
     "name": "stdout",
     "output_type": "stream",
     "text": [
      "Requirement already satisfied: ib_insync in c:\\users\\anthony jungo\\appdata\\local\\programs\\python\\python311\\lib\\site-packages (0.9.86)\n",
      "Requirement already satisfied: eventkit in c:\\users\\anthony jungo\\appdata\\local\\programs\\python\\python311\\lib\\site-packages (from ib_insync) (1.0.3)\n",
      "Requirement already satisfied: nest-asyncio in c:\\users\\anthony jungo\\appdata\\roaming\\python\\python311\\site-packages (from ib_insync) (1.5.6)\n",
      "Requirement already satisfied: numpy in c:\\users\\anthony jungo\\appdata\\local\\programs\\python\\python311\\lib\\site-packages (from eventkit->ib_insync) (1.26.4)\n",
      "Note: you may need to restart the kernel to use updated packages.\n"
     ]
    }
   ],
   "source": [
    "%pip install ib_insync"
   ]
  },
  {
   "cell_type": "code",
   "execution_count": 22,
   "metadata": {
    "scrolled": true
   },
   "outputs": [
    {
     "data": {
      "text/plain": [
       "[DepthMktDataDescription(exchange='DTB', secType='OPT', listingExch='', serviceDataType='Deep', aggGroup=2147483647),\n",
       " DepthMktDataDescription(exchange='COMEX', secType='FOP', listingExch='', serviceDataType='Deep', aggGroup=2147483647),\n",
       " DepthMktDataDescription(exchange='LSEETF', secType='STK', listingExch='', serviceDataType='Deep', aggGroup=2147483647),\n",
       " DepthMktDataDescription(exchange='SGX', secType='FUT', listingExch='', serviceDataType='Deep', aggGroup=2147483647),\n",
       " DepthMktDataDescription(exchange='NASDAQ', secType='WAR', listingExch='', serviceDataType='Deep2', aggGroup=2147483647),\n",
       " DepthMktDataDescription(exchange='IDEALPRO', secType='CASH', listingExch='', serviceDataType='Deep', aggGroup=4),\n",
       " DepthMktDataDescription(exchange='ARCA', secType='STK', listingExch='', serviceDataType='Deep', aggGroup=2147483647),\n",
       " DepthMktDataDescription(exchange='AEB', secType='IOPT', listingExch='', serviceDataType='Deep', aggGroup=2147483647)]"
      ]
     },
     "execution_count": 22,
     "metadata": {},
     "output_type": "execute_result"
    }
   ],
   "source": [
    "# importing necessary libraries\n",
    "from ib_insync import *\n",
    "util.startLoop()\n",
    "\n",
    "ib = IB()\n",
    "ib.connect('127.0.0.1', 7497, clientId=1)\n",
    "\n",
    "#To get a list of all exchanges that support market depth data and display the first 8:\n",
    "\n",
    "l = ib.reqMktDepthExchanges()\n",
    "l[:8]"
   ]
  },
  {
   "cell_type": "markdown",
   "metadata": {},
   "source": [
    "Get Historical data from Interactive brokers"
   ]
  },
  {
   "cell_type": "code",
   "execution_count": 53,
   "metadata": {},
   "outputs": [
    {
     "data": {
      "text/plain": [
       "datetime.datetime(2010, 6, 29, 8, 0)"
      ]
     },
     "execution_count": 53,
     "metadata": {},
     "output_type": "execute_result"
    }
   ],
   "source": [
    "contract = Stock('TSLA', 'SMART', 'USD')\n",
    "\n",
    "ib.reqHeadTimeStamp(contract, whatToShow='TRADES', useRTH=True)"
   ]
  },
  {
   "cell_type": "code",
   "execution_count": 57,
   "metadata": {},
   "outputs": [],
   "source": [
    "bars = ib.reqHistoricalData(\n",
    "        contract,\n",
    "        endDateTime='',\n",
    "        durationStr='1 Y',\n",
    "        barSizeSetting='1 hour',\n",
    "        whatToShow='TRADES',\n",
    "        useRTH=True,\n",
    "        formatDate=1)"
   ]
  },
  {
   "cell_type": "code",
   "execution_count": 58,
   "metadata": {},
   "outputs": [
    {
     "data": {
      "text/plain": [
       "BarData(date=datetime.datetime(2023, 3, 16, 9, 30, tzinfo=zoneinfo.ZoneInfo(key='US/Eastern')), open=180.27, high=182.48, low=178.84, close=182.2, volume=15069416.0, average=180.377, barCount=51590)"
      ]
     },
     "execution_count": 58,
     "metadata": {},
     "output_type": "execute_result"
    }
   ],
   "source": [
    "bars[0]"
   ]
  },
  {
   "cell_type": "markdown",
   "metadata": {},
   "source": [
    "Convert the bars into rows and columns"
   ]
  },
  {
   "cell_type": "code",
   "execution_count": 59,
   "metadata": {},
   "outputs": [
    {
     "data": {
      "text/html": [
       "<div>\n",
       "<style scoped>\n",
       "    .dataframe tbody tr th:only-of-type {\n",
       "        vertical-align: middle;\n",
       "    }\n",
       "\n",
       "    .dataframe tbody tr th {\n",
       "        vertical-align: top;\n",
       "    }\n",
       "\n",
       "    .dataframe thead th {\n",
       "        text-align: right;\n",
       "    }\n",
       "</style>\n",
       "<table border=\"1\" class=\"dataframe\">\n",
       "  <thead>\n",
       "    <tr style=\"text-align: right;\">\n",
       "      <th></th>\n",
       "      <th>date</th>\n",
       "      <th>open</th>\n",
       "      <th>high</th>\n",
       "      <th>low</th>\n",
       "      <th>close</th>\n",
       "      <th>volume</th>\n",
       "      <th>average</th>\n",
       "      <th>barCount</th>\n",
       "    </tr>\n",
       "  </thead>\n",
       "  <tbody>\n",
       "    <tr>\n",
       "      <th>0</th>\n",
       "      <td>2023-03-16 09:30:00-04:00</td>\n",
       "      <td>180.27</td>\n",
       "      <td>182.48</td>\n",
       "      <td>178.84</td>\n",
       "      <td>182.20</td>\n",
       "      <td>15069416.0</td>\n",
       "      <td>180.377</td>\n",
       "      <td>51590</td>\n",
       "    </tr>\n",
       "    <tr>\n",
       "      <th>1</th>\n",
       "      <td>2023-03-16 10:00:00-04:00</td>\n",
       "      <td>182.24</td>\n",
       "      <td>182.40</td>\n",
       "      <td>179.52</td>\n",
       "      <td>181.95</td>\n",
       "      <td>20625099.0</td>\n",
       "      <td>180.902</td>\n",
       "      <td>72313</td>\n",
       "    </tr>\n",
       "    <tr>\n",
       "      <th>2</th>\n",
       "      <td>2023-03-16 11:00:00-04:00</td>\n",
       "      <td>181.98</td>\n",
       "      <td>185.42</td>\n",
       "      <td>180.88</td>\n",
       "      <td>185.04</td>\n",
       "      <td>19319995.0</td>\n",
       "      <td>183.182</td>\n",
       "      <td>67679</td>\n",
       "    </tr>\n",
       "    <tr>\n",
       "      <th>3</th>\n",
       "      <td>2023-03-16 12:00:00-04:00</td>\n",
       "      <td>185.06</td>\n",
       "      <td>185.36</td>\n",
       "      <td>183.58</td>\n",
       "      <td>185.35</td>\n",
       "      <td>13249236.0</td>\n",
       "      <td>184.474</td>\n",
       "      <td>46324</td>\n",
       "    </tr>\n",
       "    <tr>\n",
       "      <th>4</th>\n",
       "      <td>2023-03-16 13:00:00-04:00</td>\n",
       "      <td>185.34</td>\n",
       "      <td>185.81</td>\n",
       "      <td>183.72</td>\n",
       "      <td>184.42</td>\n",
       "      <td>10175634.0</td>\n",
       "      <td>184.856</td>\n",
       "      <td>36239</td>\n",
       "    </tr>\n",
       "  </tbody>\n",
       "</table>\n",
       "</div>"
      ],
      "text/plain": [
       "                       date    open    high     low   close      volume  \\\n",
       "0 2023-03-16 09:30:00-04:00  180.27  182.48  178.84  182.20  15069416.0   \n",
       "1 2023-03-16 10:00:00-04:00  182.24  182.40  179.52  181.95  20625099.0   \n",
       "2 2023-03-16 11:00:00-04:00  181.98  185.42  180.88  185.04  19319995.0   \n",
       "3 2023-03-16 12:00:00-04:00  185.06  185.36  183.58  185.35  13249236.0   \n",
       "4 2023-03-16 13:00:00-04:00  185.34  185.81  183.72  184.42  10175634.0   \n",
       "\n",
       "   average  barCount  \n",
       "0  180.377     51590  \n",
       "1  180.902     72313  \n",
       "2  183.182     67679  \n",
       "3  184.474     46324  \n",
       "4  184.856     36239  "
      ]
     },
     "metadata": {},
     "output_type": "display_data"
    },
    {
     "data": {
      "text/html": [
       "<div>\n",
       "<style scoped>\n",
       "    .dataframe tbody tr th:only-of-type {\n",
       "        vertical-align: middle;\n",
       "    }\n",
       "\n",
       "    .dataframe tbody tr th {\n",
       "        vertical-align: top;\n",
       "    }\n",
       "\n",
       "    .dataframe thead th {\n",
       "        text-align: right;\n",
       "    }\n",
       "</style>\n",
       "<table border=\"1\" class=\"dataframe\">\n",
       "  <thead>\n",
       "    <tr style=\"text-align: right;\">\n",
       "      <th></th>\n",
       "      <th>date</th>\n",
       "      <th>open</th>\n",
       "      <th>high</th>\n",
       "      <th>low</th>\n",
       "      <th>close</th>\n",
       "      <th>volume</th>\n",
       "      <th>average</th>\n",
       "      <th>barCount</th>\n",
       "    </tr>\n",
       "  </thead>\n",
       "  <tbody>\n",
       "    <tr>\n",
       "      <th>1742</th>\n",
       "      <td>2024-03-13 14:00:00-04:00</td>\n",
       "      <td>170.88</td>\n",
       "      <td>171.23</td>\n",
       "      <td>170.06</td>\n",
       "      <td>170.25</td>\n",
       "      <td>8631365.0</td>\n",
       "      <td>170.431</td>\n",
       "      <td>28782</td>\n",
       "    </tr>\n",
       "    <tr>\n",
       "      <th>1743</th>\n",
       "      <td>2024-03-13 15:00:00-04:00</td>\n",
       "      <td>170.25</td>\n",
       "      <td>171.04</td>\n",
       "      <td>169.15</td>\n",
       "      <td>169.49</td>\n",
       "      <td>12201343.0</td>\n",
       "      <td>169.915</td>\n",
       "      <td>47125</td>\n",
       "    </tr>\n",
       "    <tr>\n",
       "      <th>1744</th>\n",
       "      <td>2024-03-14 09:30:00-04:00</td>\n",
       "      <td>167.77</td>\n",
       "      <td>171.17</td>\n",
       "      <td>165.00</td>\n",
       "      <td>165.34</td>\n",
       "      <td>16901896.0</td>\n",
       "      <td>167.848</td>\n",
       "      <td>61479</td>\n",
       "    </tr>\n",
       "    <tr>\n",
       "      <th>1745</th>\n",
       "      <td>2024-03-14 10:00:00-04:00</td>\n",
       "      <td>165.33</td>\n",
       "      <td>167.37</td>\n",
       "      <td>165.11</td>\n",
       "      <td>165.38</td>\n",
       "      <td>14471017.0</td>\n",
       "      <td>166.173</td>\n",
       "      <td>51050</td>\n",
       "    </tr>\n",
       "    <tr>\n",
       "      <th>1746</th>\n",
       "      <td>2024-03-14 11:00:00-04:00</td>\n",
       "      <td>165.39</td>\n",
       "      <td>165.46</td>\n",
       "      <td>164.60</td>\n",
       "      <td>165.13</td>\n",
       "      <td>4994413.0</td>\n",
       "      <td>165.063</td>\n",
       "      <td>16853</td>\n",
       "    </tr>\n",
       "  </tbody>\n",
       "</table>\n",
       "</div>"
      ],
      "text/plain": [
       "                          date    open    high     low   close      volume  \\\n",
       "1742 2024-03-13 14:00:00-04:00  170.88  171.23  170.06  170.25   8631365.0   \n",
       "1743 2024-03-13 15:00:00-04:00  170.25  171.04  169.15  169.49  12201343.0   \n",
       "1744 2024-03-14 09:30:00-04:00  167.77  171.17  165.00  165.34  16901896.0   \n",
       "1745 2024-03-14 10:00:00-04:00  165.33  167.37  165.11  165.38  14471017.0   \n",
       "1746 2024-03-14 11:00:00-04:00  165.39  165.46  164.60  165.13   4994413.0   \n",
       "\n",
       "      average  barCount  \n",
       "1742  170.431     28782  \n",
       "1743  169.915     47125  \n",
       "1744  167.848     61479  \n",
       "1745  166.173     51050  \n",
       "1746  165.063     16853  "
      ]
     },
     "metadata": {},
     "output_type": "display_data"
    }
   ],
   "source": [
    "df = util.df(bars)\n",
    "\n",
    "display(df.head())\n",
    "display(df.tail())"
   ]
  },
  {
   "cell_type": "markdown",
   "metadata": {},
   "source": [
    "Construct a time series graph from the historical data"
   ]
  },
  {
   "cell_type": "code",
   "execution_count": 68,
   "metadata": {},
   "outputs": [
    {
     "data": {
      "image/png": "[encoded data removed]",
      "text/plain": [
       "<Figure size 1000x600 with 1 Axes>"
      ]
     },
     "metadata": {},
     "output_type": "display_data"
    }
   ],
   "source": [
    "import matplotlib.pyplot as plt\n",
    "\n",
    "\n",
    "plt.figure(figsize=(10, 6))\n",
    "plt.plot(df['date'], df['open'], label='Open')\n",
    "plt.plot(df['date'], df['close'], label='Close')\n",
    "plt.title('EURUSD Exchange Rate')\n",
    "plt.xlabel('Date')\n",
    "plt.ylabel('Price')\n",
    "plt.legend()\n",
    "plt.grid(True)\n",
    "plt.xticks(rotation=45)\n",
    "plt.tight_layout()\n",
    "plt.show()"
   ]
  },
  {
   "cell_type": "markdown",
   "metadata": {},
   "source": [
    "Let's subscribe to market depth data for EURUSD:"
   ]
  },
  {
   "cell_type": "code",
   "execution_count": 51,
   "metadata": {},
   "outputs": [],
   "source": [
    "#Forex is a shortcut for specifying currency PAIRS symbol in this case EURUSD\n",
    "contract = Forex('EURUSD')\n",
    "ib.qualifyContracts(contract)\n",
    "ticker = ib.reqMktDepth(contract)"
   ]
  },
  {
   "cell_type": "markdown",
   "metadata": {},
   "source": [
    "Create a contract and a market order:"
   ]
  },
  {
   "cell_type": "code",
   "execution_count": 52,
   "metadata": {},
   "outputs": [],
   "source": [
    "contract = Forex('EURUSD')\n",
    "ib.qualifyContracts(contract)\n",
    "\n",
    "order = LimitOrder('SELL', 20000, 1.11)"
   ]
  },
  {
   "cell_type": "markdown",
   "metadata": {},
   "source": [
    "placeOrder will place the order order and return a ``Trade`` object right away (non-blocking):"
   ]
  },
  {
   "cell_type": "code",
   "execution_count": 72,
   "metadata": {},
   "outputs": [
    {
     "name": "stderr",
     "output_type": "stream",
     "text": [
      "Error 201, reqId 30: Order rejected - reason:We are unable to accept your order. Your<a href=\"https://prod.ibkr-web.com/ibconfluence/pages/viewpage.action?pageId=23298935\"> Available Funds</a> are in sufficient to cover the change in the<br>account's margin requirements if this order executes. In order to obtain the desired position your<a href=\"https://prod.ibkr-web.com/ibconfluence/pages/viewpage.action?pageId=23299062\"> Equity with<br>Loan Value</a> [999864.97 USD] must exceed the new total<a href=\"https://prod.ibkr-web.com/ibconfluence/pages/viewpage.action?pageId=23599316\"> Initial Margin</a> of [1174104.05 USD].\n",
      "Canceled order: Trade(contract=Stock(symbol='TSLA', exchange='SMART', currency='USD'), order=LimitOrder(orderId=30, clientId=1, permId=587008038, action='SELL', totalQuantity=20000.0, lmtPrice=1.11, auxPrice=0.0), orderStatus=OrderStatus(orderId=30, status='Cancelled', filled=0.0, remaining=20000.0, avgFillPrice=0.0, permId=587008038, parentId=0, lastFillPrice=0.0, clientId=1, whyHeld='', mktCapPrice=0.0), fills=[], log=[TradeLogEntry(time=datetime.datetime(2024, 3, 14, 16, 10, 39, 535115, tzinfo=datetime.timezone.utc), status='PendingSubmit', message='', errorCode=0), TradeLogEntry(time=datetime.datetime(2024, 3, 14, 16, 10, 52, 22624, tzinfo=datetime.timezone.utc), status='Inactive', message='', errorCode=0), TradeLogEntry(time=datetime.datetime(2024, 3, 14, 16, 10, 52, 22624, tzinfo=datetime.timezone.utc), status='Cancelled', message='Error 201, reqId 30: Order rejected - reason:We are unable to accept your order. Your<a href=\"https://prod.ibkr-web.com/ibconfluence/pages/viewpage.action?pageId=23298935\"> Available Funds</a> are in sufficient to cover the change in the<br>account\\'s margin requirements if this order executes. In order to obtain the desired position your<a href=\"https://prod.ibkr-web.com/ibconfluence/pages/viewpage.action?pageId=23299062\"> Equity with<br>Loan Value</a> [999864.97 USD] must exceed the new total<a href=\"https://prod.ibkr-web.com/ibconfluence/pages/viewpage.action?pageId=23599316\"> Initial Margin</a> of [1174104.05 USD].', errorCode=201)], advancedError='')\n"
     ]
    }
   ],
   "source": [
    "trade = ib.placeOrder(contract, order)"
   ]
  },
  {
   "cell_type": "markdown",
   "metadata": {},
   "source": [
    "Now let's create a limit order with an unrealistic limit:"
   ]
  },
  {
   "cell_type": "code",
   "execution_count": 74,
   "metadata": {},
   "outputs": [
    {
     "data": {
      "text/plain": [
       "Trade(contract=Stock(symbol='TSLA', exchange='SMART', currency='USD'), order=LimitOrder(orderId=31, clientId=1, action='BUY', totalQuantity=20000, lmtPrice=0.05), orderStatus=OrderStatus(orderId=31, status='PendingSubmit', filled=0.0, remaining=0.0, avgFillPrice=0.0, permId=0, parentId=0, lastFillPrice=0.0, clientId=0, whyHeld='', mktCapPrice=0.0), fills=[], log=[TradeLogEntry(time=datetime.datetime(2024, 3, 14, 16, 12, 2, 663304, tzinfo=datetime.timezone.utc), status='PendingSubmit', message='', errorCode=0)], advancedError='')"
      ]
     },
     "execution_count": 74,
     "metadata": {},
     "output_type": "execute_result"
    }
   ],
   "source": [
    "limitOrder = LimitOrder('BUY', 20000, 0.05)\n",
    "limitTrade = ib.placeOrder(contract, limitOrder)\n",
    "\n",
    "limitTrade"
   ]
  },
  {
   "cell_type": "markdown",
   "metadata": {},
   "source": [
    "placeOrder is not blocking and will not wait on what happens with the order.\n",
    "To make the order placement blocking, that is to wait until the order is either\n",
    "filled or canceled, consider the following:"
   ]
  },
  {
   "cell_type": "code",
   "execution_count": 75,
   "metadata": {},
   "outputs": [
    {
     "name": "stdout",
     "output_type": "stream",
     "text": [
      "CPU times: total: 0 ns\n",
      "Wall time: 1.08 s\n"
     ]
    }
   ],
   "source": [
    "%%time\n",
    "order = MarketOrder('BUY', 100)\n",
    "\n",
    "trade = ib.placeOrder(contract, order)\n",
    "while not trade.isDone():\n",
    "    ib.waitOnUpdate()"
   ]
  },
  {
   "cell_type": "markdown",
   "metadata": {},
   "source": [
    "What are our positions?"
   ]
  },
  {
   "cell_type": "code",
   "execution_count": 76,
   "metadata": {
    "scrolled": true
   },
   "outputs": [
    {
     "data": {
      "text/plain": [
       "[Position(account='DU8948497', contract=Stock(conId=76792991, symbol='TSLA', exchange='NASDAQ', currency='USD', localSymbol='TSLA', tradingClass='NMS'), position=100.0, avgCost=161.94)]"
      ]
     },
     "execution_count": 76,
     "metadata": {},
     "output_type": "execute_result"
    }
   ],
   "source": [
    "ib.positions()"
   ]
  },
  {
   "cell_type": "markdown",
   "metadata": {},
   "source": [
    "What's the total of commissions paid today?"
   ]
  },
  {
   "cell_type": "code",
   "execution_count": 77,
   "metadata": {},
   "outputs": [
    {
     "data": {
      "text/plain": [
       "1.0"
      ]
     },
     "execution_count": 77,
     "metadata": {},
     "output_type": "execute_result"
    }
   ],
   "source": [
    "sum(fill.commissionReport.commission for fill in ib.fills())"
   ]
  },
  {
   "cell_type": "markdown",
   "metadata": {},
   "source": [
    "whatIfOrder can be used to see the commission and the margin impact of an order without actually sending the order:"
   ]
  },
  {
   "cell_type": "code",
   "execution_count": 78,
   "metadata": {},
   "outputs": [
    {
     "data": {
      "text/plain": [
       "OrderState(status='PreSubmitted', initMarginBefore='8961.7', maintMarginBefore='8147.0', equityWithLoanBefore='1000094.45', initMarginChange='1158340.48', maintMarginChange='964604.81', equityWithLoanChange='-17164.169999999925', initMarginAfter='1167302.18', maintMarginAfter='972751.81', equityWithLoanAfter='982930.28', commission=1.7976931348623157e+308, minCommission=1.7976931348623157e+308, maxCommission=1.7976931348623157e+308, commissionCurrency='', warningText='', completedTime='', completedStatus='')"
      ]
     },
     "execution_count": 78,
     "metadata": {},
     "output_type": "execute_result"
    }
   ],
   "source": [
    "order = MarketOrder('SELL', 20000)\n",
    "ib.whatIfOrder(contract, order)"
   ]
  },
  {
   "cell_type": "code",
   "execution_count": null,
   "metadata": {},
   "outputs": [],
   "source": [
    "ib.disconnect()"
   ]
  }
 ],
 "metadata": {
  "kernelspec": {
   "display_name": "Python 3",
   "language": "python",
   "name": "python3"
  },
  "language_info": {
   "codemirror_mode": {
    "name": "ipython",
    "version": 3
   },
   "file_extension": ".py",
   "mimetype": "text/x-python",
   "name": "python",
   "nbconvert_exporter": "python",
   "pygments_lexer": "ipython3",
   "version": "3.11.3"
  }
 },
 "nbformat": 4,
 "nbformat_minor": 4
}
